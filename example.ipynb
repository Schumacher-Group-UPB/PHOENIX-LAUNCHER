{
 "cells": [
  {
   "cell_type": "code",
   "execution_count": 1,
   "metadata": {},
   "outputs": [],
   "source": [
    "from phoenix_wrapper.runner import PhoenixSolver"
   ]
  },
  {
   "cell_type": "code",
   "execution_count": null,
   "metadata": {},
   "outputs": [],
   "source": [
    "solver = PhoenixSolver( \n",
    "    # working_directory=\"some/path/\", # Specify a working directory. Default is the current directory\n",
    "    # platform=\"windows\", # Platform to run on. This only really changes if \".exe\" or \".out\" is appended to the executable name. Default is \"windows\"\n",
    ")\n",
    "\n",
    "# We can also check if we find any executables in the directory of this package that we can run.\n",
    "# The solver does this automatically when its first run, but we can also do it manually.\n",
    "solver.update_executables()\n",
    "\n",
    "# We can also trigger building the executables in the directory of this package.\n",
    "# This function clones https://github.com/Schumacher-Group-UPB/PHOENIX -> master and trys to build both the CPU and GPU versions.\n",
    "# solver.build()"
   ]
  },
  {
   "cell_type": "code",
   "execution_count": null,
   "metadata": {},
   "outputs": [],
   "source": [
    "# Reset current solver settings to default\n",
    "solver.reset_settings()\n",
    "\n",
    "# Generate some new settings. We can add settings using a dictionary like this:\n",
    "settings = solver.import_settings( # Import settings from a dictionary. This function also returns the settings, so we can snapshot them for later use\n",
    "    parameters={\n",
    "        \"N\": (300, 300), # Number of grid points\n",
    "        \"L\": (100, 100), # Length of the grid\n",
    "        \"pulse\": [ # Pulse settings\n",
    "            ( 5.6856e-3, \"add\", 0.5, 0.5, 0, 0, \"both\", 1, 0, \"gauss+noDivide\", \"time\", \"iexp\", 10, 1, -2),\n",
    "            ( 5.6856e-3, \"add\", 0.5, 0.5, 0, 0, \"both\", 1, 0, \"gauss+noDivide\", \"time\", \"iexp\", 40, 1, -2),\n",
    "        ],\n",
    "        \"outEvery\": 0.1, # Output every 0.1ps\n",
    "        \"initRandom\": (1e-1, 1337), # Random seed for initial conditions\n",
    "        \"output\": \"wavefunction,scalar\", # Output wavefunction and scalar data\n",
    "    } \n",
    ")\n",
    "\n",
    "# The solver also provides some helper functions to set settings, like the time:\n",
    "solver.p_set_time( \n",
    "    t1=100, # Set the simulation time to 100ps\n",
    "    #dt = 0.001, # Set the time step to 0.001ps. Default is None (magic time step)\n",
    ")\n",
    "\n",
    "# We can export the settings into a json file, which we can also load using .import_settings(...) instead of specifying the settings in a dictionary\n",
    "# solver.export_settings( path=\"some/path/to/settings.json\" )\n",
    "\n",
    "# Build the new runstring. This method is required to update the runstring with the new settings. The method also returns the runstring\n",
    "solver.build_runstring()"
   ]
  },
  {
   "cell_type": "code",
   "execution_count": null,
   "metadata": {},
   "outputs": [],
   "source": [
    "# The solver class can also help building and visualizing the enevelopes using the p_add_envelope_assist() method\n",
    "# This method is highly subject to change and merely a prototype \n",
    "solver.p_add_envelope_assist()"
   ]
  },
  {
   "cell_type": "code",
   "execution_count": null,
   "metadata": {},
   "outputs": [],
   "source": [
    "# Run the solver with the settings we specified, using either fp32 or fp64 precision. We can use verbose output to create progress bars in jupyter notebooks\n",
    "summary = solver.run( # Run the solver. Returns a summary of the run\n",
    "    precision=\"fp32\", # Use single precision\n",
    "    output_verbose=True # Output verbose output\n",
    ")\n",
    "\n",
    "print(f\"Summary: {summary}\")\n",
    "\n",
    "# The solver also provideos a minimal output function that can be used in e.g. loops\n",
    "# This function only returns the return code of the solver\n",
    "# solver.quick_run( precision=\"fp64\")"
   ]
  },
  {
   "cell_type": "code",
   "execution_count": null,
   "metadata": {},
   "outputs": [],
   "source": [
    "import numpy as np\n",
    "import matplotlib.pyplot as plt\n",
    "\n",
    "# We can retrieve the current parameters from the snapshot we took earlier\n",
    "Nx,Ny = settings[\"parameters\"][\"N\"]\n",
    "\n",
    "# Build a random matrix\n",
    "test_matrix = np.random.rand(Nx,Ny) + 1j*np.random.rand(Nx,Ny)\n",
    "\n",
    "# We can use the solver to save any numpy matrix to a file. The solver will automatically save the matrix in the correct format\n",
    "# PHOENIX can then load this file and use it\n",
    "solver.save_matrix( test_matrix, \"test_matrix.txt\" )\n",
    "\n",
    "# The solver can also plot matrices in the current working directory. This can include custom matrices or the output of the solver\n",
    "solver.plot_matrix(\n",
    "    name=\"wavefunction_plus.txt\", # Matrix to plot\n",
    "    use_abs=True, # Use the absolute value of the matrix\n",
    "    use_fft=True, # Use the FFT of the matrix. These can be combined.\n",
    "    fft_shift=True, # Shift the FFT\n",
    "    k_space=True, # Plot the k-space instead of the real space\n",
    "    title=\"FFT of test_matrix\", # Title of the plot\n",
    "    # From here, kwargs are passed to the matplotlib imshow function\n",
    "    cblabel=\"Amplitude\", # Label of the colorbar\n",
    "    cmap=\"turbo\" # Colormap to use\n",
    ")\n",
    "plt.show()\n",
    "\n",
    "# The solver provides a quick-plot function to plot the scalar output of the solver\n",
    "solver.plot_scalar();"
   ]
  }
 ],
 "metadata": {
  "kernelspec": {
   "display_name": "Python 3",
   "language": "python",
   "name": "python3"
  },
  "language_info": {
   "codemirror_mode": {
    "name": "ipython",
    "version": 3
   },
   "file_extension": ".py",
   "mimetype": "text/x-python",
   "name": "python",
   "nbconvert_exporter": "python",
   "pygments_lexer": "ipython3",
   "version": "3.12.4"
  }
 },
 "nbformat": 4,
 "nbformat_minor": 2
}
